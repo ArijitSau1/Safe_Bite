{
 "cells": [
  {
   "cell_type": "code",
   "execution_count": 1,
   "id": "04b58b3c-ab19-4e27-a894-d1668dee344b",
   "metadata": {},
   "outputs": [],
   "source": [
    "import pandas as pd\n",
    "\n",
    "file_path = r\"C:\\Users\\ariji\\Downloads\\Allergen_Status_of_Food_Products.csv\"\n",
    "data = pd.read_csv(file_path)\n",
    "\n",
    "# Ensure all required columns exist\n",
    "required_columns = ['Food Product', 'Main Ingredient', 'Sweetener', 'Fat/Oil', 'Seasoning', 'Allergens', 'Prediction']\n",
    "missing_columns = [col for col in required_columns if col not in data.columns]\n",
    "if missing_columns:\n",
    "    raise ValueError(f\"Missing required columns in dataset: {missing_columns}\")\n"
   ]
  },
  {
   "cell_type": "code",
   "execution_count": 2,
   "id": "90f4e0c1-9696-4336-a4fa-8a2d3bb8ea81",
   "metadata": {},
   "outputs": [
    {
     "name": "stderr",
     "output_type": "stream",
     "text": [
      "C:\\Users\\ariji\\AppData\\Local\\Temp\\ipykernel_26360\\383859629.py:4: FutureWarning: A value is trying to be set on a copy of a DataFrame or Series through chained assignment using an inplace method.\n",
      "The behavior will change in pandas 3.0. This inplace method will never work because the intermediate object on which we are setting values always behaves as a copy.\n",
      "\n",
      "For example, when doing 'df[col].method(value, inplace=True)', try using 'df.method({col: value}, inplace=True)' or df[col] = df[col].method(value) instead, to perform the operation inplace on the original object.\n",
      "\n",
      "\n",
      "  data[col].fillna('Unknown', inplace=True)\n"
     ]
    }
   ],
   "source": [
    "# Fill missing values in specific columns\n",
    "fill_cols = ['Prediction', 'Sweetener', 'Fat/Oil', 'Seasoning', 'Allergens']\n",
    "for col in fill_cols:\n",
    "    data[col].fillna('Unknown', inplace=True)\n"
   ]
  },
  {
   "cell_type": "code",
   "execution_count": 4,
   "id": "206a2f03-4e8c-4a6c-89d2-8da82846324e",
   "metadata": {},
   "outputs": [
    {
     "name": "stdout",
     "output_type": "stream",
     "text": [
      "Food Product                  0\n",
      "Main Ingredient               0\n",
      "Sweetener                     0\n",
      "Fat/Oil                       0\n",
      "Seasoning                     0\n",
      "Allergens                     0\n",
      "Price ($)                     0\n",
      "Customer rating (Out of 5)    0\n",
      "Prediction                    0\n",
      "dtype: int64\n"
     ]
    }
   ],
   "source": [
    "print(data.isnull().sum())"
   ]
  },
  {
   "cell_type": "code",
   "execution_count": 5,
   "id": "60ed623e-9b55-4f01-926e-ed01e6a53532",
   "metadata": {},
   "outputs": [],
   "source": [
    "data['Prediction'] = data['Prediction'].map({'Contains': 1, 'Does not contain': 0})\n",
    "data = data.dropna(subset=['Prediction'])  # Drop rows with NaN in Prediction\n"
   ]
  },
  {
   "cell_type": "code",
   "execution_count": 6,
   "id": "a446857d-8347-4c98-8c18-eee425ca87f2",
   "metadata": {},
   "outputs": [
    {
     "name": "stdout",
     "output_type": "stream",
     "text": [
      "Unique values in 'Prediction': [1. 0.]\n"
     ]
    }
   ],
   "source": [
    "print(\"Unique values in 'Prediction':\", data['Prediction'].unique())\n"
   ]
  },
  {
   "cell_type": "code",
   "execution_count": 7,
   "id": "155d1971-c454-4eaa-a5aa-aa5153201b9c",
   "metadata": {},
   "outputs": [
    {
     "name": "stdout",
     "output_type": "stream",
     "text": [
      "Unexpected values in 'Prediction': {0.0, 1.0}\n"
     ]
    }
   ],
   "source": [
    "valid_predictions = {'Contains', 'Does not contain'}\n",
    "unexpected_values = set(data['Prediction']) - valid_predictions\n",
    "if unexpected_values:\n",
    "    print(f\"Unexpected values in 'Prediction': {unexpected_values}\")\n"
   ]
  },
  {
   "cell_type": "code",
   "execution_count": 8,
   "id": "2cbd04db-a974-42d4-b858-66458eb78d7c",
   "metadata": {},
   "outputs": [],
   "source": [
    "import category_encoders as ce\n",
    "\n",
    "# Define categorical columns and target column\n",
    "cat_cols = ['Food Product', 'Main Ingredient', 'Sweetener', 'Fat/Oil', 'Seasoning', 'Allergens']\n",
    "target_col = 'Prediction'\n",
    "\n",
    "# Initialize LeaveOneOutEncoder\n",
    "encoder = ce.LeaveOneOutEncoder(cols=cat_cols)\n",
    "\n",
    "# Fit and transform the data (requires target variable)\n",
    "encoded_data = encoder.fit_transform(data[cat_cols], data[target_col])\n",
    "\n",
    "# Merge the encoded columns with the rest of the dataset\n",
    "final_data = pd.concat([data.drop(columns=cat_cols), encoded_data], axis=1)\n"
   ]
  },
  {
   "cell_type": "code",
   "execution_count": 9,
   "id": "b2bf55a2-5191-4180-8c56-f66fddb63822",
   "metadata": {},
   "outputs": [
    {
     "name": "stdout",
     "output_type": "stream",
     "text": [
      "Encoder saved to C:\\Users\\ariji\\SafeBite\\Models\\encoder2.pkl\n",
      "Encoded dataset saved to C:\\Users\\ariji\\SafeBite\\Datasets\\Allergen_Status_Encoded2.csv\n"
     ]
    }
   ],
   "source": [
    "import joblib\n",
    "\n",
    "# Save the encoder\n",
    "encoder_path = r'C:\\Users\\ariji\\SafeBite\\Models\\encoder2.pkl'\n",
    "joblib.dump(encoder, encoder_path)\n",
    "print(f\"Encoder saved to {encoder_path}\")\n",
    "\n",
    "# Save the final encoded dataset\n",
    "output_path = r'C:\\Users\\ariji\\SafeBite\\Datasets\\Allergen_Status_Encoded2.csv'\n",
    "final_data.to_csv(output_path, index=False)\n",
    "print(f\"Encoded dataset saved to {output_path}\")\n"
   ]
  },
  {
   "cell_type": "code",
   "execution_count": 10,
   "id": "6a1c70b0-beec-4f2b-b9b5-3408af85903d",
   "metadata": {},
   "outputs": [
    {
     "name": "stdout",
     "output_type": "stream",
     "text": [
      "   Food Product  Main Ingredient  Sweetener   Fat/Oil  Seasoning  Allergens\n",
      "0      1.000000              1.0   0.890110  0.940476        1.0        1.0\n",
      "1      1.000000              1.0   0.890110  0.940476        1.0        1.0\n",
      "2      0.333333              1.0   0.543165  0.631579        0.9        1.0\n",
      "3      0.333333              1.0   0.543165  0.631579        0.9        1.0\n",
      "4      0.640704              1.0   0.543165  0.631579        0.9        1.0\n",
      "Encoder categories: {'cols': ['Food Product', 'Main Ingredient', 'Sweetener', 'Fat/Oil', 'Seasoning', 'Allergens'], 'drop_invariant': False, 'handle_missing': 'value', 'handle_unknown': 'value', 'random_state': None, 'return_df': True, 'sigma': None, 'verbose': 0}\n"
     ]
    }
   ],
   "source": [
    "print(encoded_data.head())\n",
    "print(\"Encoder categories:\", encoder.get_params())\n"
   ]
  },
  {
   "cell_type": "code",
   "execution_count": 11,
   "id": "1781053d-a1e4-4a5e-a7ca-32b374760108",
   "metadata": {},
   "outputs": [
    {
     "name": "stdout",
     "output_type": "stream",
     "text": [
      "Columns in final dataset: Index(['Price ($)', 'Customer rating (Out of 5)', 'Prediction', 'Food Product',\n",
      "       'Main Ingredient', 'Sweetener', 'Fat/Oil', 'Seasoning', 'Allergens'],\n",
      "      dtype='object')\n"
     ]
    }
   ],
   "source": [
    "print(\"Columns in final dataset:\", final_data.columns)\n"
   ]
  },
  {
   "cell_type": "code",
   "execution_count": null,
   "id": "6b35f899-76dd-402a-8863-61c74378a36d",
   "metadata": {},
   "outputs": [],
   "source": []
  }
 ],
 "metadata": {
  "kernelspec": {
   "display_name": "Python 3 (ipykernel)",
   "language": "python",
   "name": "python3"
  },
  "language_info": {
   "codemirror_mode": {
    "name": "ipython",
    "version": 3
   },
   "file_extension": ".py",
   "mimetype": "text/x-python",
   "name": "python",
   "nbconvert_exporter": "python",
   "pygments_lexer": "ipython3",
   "version": "3.12.4"
  }
 },
 "nbformat": 4,
 "nbformat_minor": 5
}
